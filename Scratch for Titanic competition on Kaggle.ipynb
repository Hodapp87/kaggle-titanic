{
 "cells": [
  {
   "cell_type": "markdown",
   "metadata": {},
   "source": [
    "*Disclaimer: This work is a giant pile of scratch work, and is not very organized.*\n",
    "\n",
    "# Notes\n",
    "- My models appear to be okay, but my preprocessing still leaves something to be desired.\n",
    "- With my method of preprocessing, I am able to get close to 0.80 accuracy with random forests, but I am routinely around 0.70 on SVC despite assertions everywhere that SVC should get me past 0.80.\n",
    "- I tried preprocessing code from https://www.kaggle.com/sinakhorami/titanic-best-working-classifier, still on my own models, but was still only around 0.78 on Kaggle."
   ]
  },
  {
   "cell_type": "code",
   "execution_count": 1,
   "metadata": {},
   "outputs": [
    {
     "name": "stderr",
     "output_type": "stream",
     "text": [
      "/nix/store/52jgbsm6l4145pl8k9d5z2nj7ss4v35a-python3-3.5.4-env/lib/python3.5/site-packages/sklearn/cross_validation.py:41: DeprecationWarning: This module was deprecated in version 0.18 in favor of the model_selection module into which all the refactored classes and functions are moved. Also note that the interface of the new CV iterators are different from that of this module. This module will be removed in 0.20.\n",
      "  \"This module will be removed in 0.20.\", DeprecationWarning)\n"
     ]
    }
   ],
   "source": [
    "#!/usr/bin/env python\n",
    "\n",
    "# (c) 2017, Chris Hodapp\n",
    "# Code for: https://www.kaggle.com/c/titanic\n",
    "\n",
    "# \"It is your job to predict if a passenger survived the sinking of\n",
    "# the Titanic or not. For each PassengerId in the test set, you must\n",
    "# predict a 0 or 1 value for the Survived variable.\"  \"Your score is\n",
    "# the percentage of passengers you correctly predict.\"\n",
    "\n",
    "import pandas\n",
    "import matplotlib\n",
    "import matplotlib.pyplot as plt\n",
    "import numpy\n",
    "import xgboost\n",
    "import sklearn\n",
    "import sklearn.model_selection\n",
    "import sklearn.linear_model\n",
    "import sklearn.preprocessing\n",
    "import sklearn.ensemble\n",
    "import sklearn.svm"
   ]
  },
  {
   "cell_type": "code",
   "execution_count": 2,
   "metadata": {},
   "outputs": [
    {
     "name": "stderr",
     "output_type": "stream",
     "text": [
      "/home/hodapp/source/kaggle-titanic/sinakhorami_preprocess.py:33: SettingWithCopyWarning: \n",
      "A value is trying to be set on a copy of a slice from a DataFrame\n",
      "\n",
      "See the caveats in the documentation: http://pandas.pydata.org/pandas-docs/stable/indexing.html#indexing-view-versus-copy\n",
      "  dataset['Age'][np.isnan(dataset['Age'])] = age_null_random_list\n"
     ]
    }
   ],
   "source": [
    "# Another person's preprocessing code, for comparison\n",
    "import sinakhorami_preprocess"
   ]
  },
  {
   "cell_type": "markdown",
   "metadata": {},
   "source": [
    "## Loading & Transformation:"
   ]
  },
  {
   "cell_type": "code",
   "execution_count": 3,
   "metadata": {
    "collapsed": true
   },
   "outputs": [],
   "source": [
    "pandas.set_option(\"display.width\", None)\n",
    "\n",
    "# Load data:\n",
    "train_raw = pandas.read_csv(\"train.csv\")\n",
    "test_raw = pandas.read_csv(\"test.csv\")"
   ]
  },
  {
   "cell_type": "code",
   "execution_count": 4,
   "metadata": {
    "collapsed": true
   },
   "outputs": [],
   "source": [
    "# Some titles are equivalent:\n",
    "equiv = {\n",
    "    \"Jonkheer\": \"Master\",\n",
    "    \"Mlle\": \"Miss\",\n",
    "    \"Ms\": \"Miss\",\n",
    "    \"Mme\": \"Mrs\",\n",
    "    \"Capt\": \"Sir\",\n",
    "    \"Don\": \"Sir\",\n",
    "    \"Major\": \"Sir\",\n",
    "    \"Col\": \"Sir\",\n",
    "    \"Dona\": \"Lady\",\n",
    "    \"Countess\": \"Lady\",\n",
    "}\n",
    "def getprefix(name):\n",
    "    prefix = [pt[:-1] for pt in name.split(\" \") if pt.endswith(\".\")][0]\n",
    "    return equiv.get(prefix, prefix)\n",
    "\n",
    "def xform_input(df):\n",
    "    # One-hot encode categorical Embarked column\n",
    "    # Turn column \"Sex\" to a number - 0 for male, 1 for female\n",
    "    # (it has only these two categories, all non-null)\n",
    "    # Extract first letter of Cabin and one-hot encode\n",
    "    # Extract title (Mr, Mrs, Mme, Captain, etc.) from Title, one-hot encode\n",
    "    onehot_emb = pandas.get_dummies(df.Embarked, \"Embarked\")\n",
    "    onehot_cabin = pandas.get_dummies([i[0] for i in df.Cabin.fillna(\"N\")], \"Cabin\")\n",
    "    onehot_title = pandas.get_dummies([getprefix(n) for n in df.Name if \".\" in n], \"Title\")\n",
    "    counts = train_raw.groupby(\"Ticket\", as_index=False).size().reset_index(name=\"Count\")\n",
    "    df2 = train_raw.merge(counts, on=\"Ticket\")\n",
    "    return df.assign(Sex = numpy.where(df.Sex == \"male\", 0, 1)) \\\n",
    "             .assign(FarePer = df2.Fare / df2.Count) \\\n",
    "             .assign(Alone = ((df2.SibSp + df2.Parch) == 0)) \\\n",
    "             .drop(\"Embarked\", axis=1) \\\n",
    "             .drop(\"Cabin\", axis=1) \\\n",
    "             .join(onehot_cabin) \\\n",
    "             .join(onehot_emb) \\\n",
    "             .join(onehot_title)"
   ]
  },
  {
   "cell_type": "markdown",
   "metadata": {},
   "source": [
    "## Raw data:"
   ]
  },
  {
   "cell_type": "code",
   "execution_count": 5,
   "metadata": {},
   "outputs": [
    {
     "data": {
      "text/html": [
       "<div>\n",
       "<style>\n",
       "    .dataframe thead tr:only-child th {\n",
       "        text-align: right;\n",
       "    }\n",
       "\n",
       "    .dataframe thead th {\n",
       "        text-align: left;\n",
       "    }\n",
       "\n",
       "    .dataframe tbody tr th {\n",
       "        vertical-align: top;\n",
       "    }\n",
       "</style>\n",
       "<table border=\"1\" class=\"dataframe\">\n",
       "  <thead>\n",
       "    <tr style=\"text-align: right;\">\n",
       "      <th></th>\n",
       "      <th>PassengerId</th>\n",
       "      <th>Survived</th>\n",
       "      <th>Pclass</th>\n",
       "      <th>Name</th>\n",
       "      <th>Sex</th>\n",
       "      <th>Age</th>\n",
       "      <th>SibSp</th>\n",
       "      <th>Parch</th>\n",
       "      <th>Ticket</th>\n",
       "      <th>Fare</th>\n",
       "      <th>Cabin</th>\n",
       "      <th>Embarked</th>\n",
       "    </tr>\n",
       "  </thead>\n",
       "  <tbody>\n",
       "    <tr>\n",
       "      <th>0</th>\n",
       "      <td>1</td>\n",
       "      <td>0</td>\n",
       "      <td>3</td>\n",
       "      <td>Braund, Mr. Owen Harris</td>\n",
       "      <td>male</td>\n",
       "      <td>22.0</td>\n",
       "      <td>1</td>\n",
       "      <td>0</td>\n",
       "      <td>A/5 21171</td>\n",
       "      <td>7.2500</td>\n",
       "      <td>NaN</td>\n",
       "      <td>S</td>\n",
       "    </tr>\n",
       "    <tr>\n",
       "      <th>1</th>\n",
       "      <td>2</td>\n",
       "      <td>1</td>\n",
       "      <td>1</td>\n",
       "      <td>Cumings, Mrs. John Bradley (Florence Briggs Th...</td>\n",
       "      <td>female</td>\n",
       "      <td>38.0</td>\n",
       "      <td>1</td>\n",
       "      <td>0</td>\n",
       "      <td>PC 17599</td>\n",
       "      <td>71.2833</td>\n",
       "      <td>C85</td>\n",
       "      <td>C</td>\n",
       "    </tr>\n",
       "    <tr>\n",
       "      <th>2</th>\n",
       "      <td>3</td>\n",
       "      <td>1</td>\n",
       "      <td>3</td>\n",
       "      <td>Heikkinen, Miss. Laina</td>\n",
       "      <td>female</td>\n",
       "      <td>26.0</td>\n",
       "      <td>0</td>\n",
       "      <td>0</td>\n",
       "      <td>STON/O2. 3101282</td>\n",
       "      <td>7.9250</td>\n",
       "      <td>NaN</td>\n",
       "      <td>S</td>\n",
       "    </tr>\n",
       "    <tr>\n",
       "      <th>3</th>\n",
       "      <td>4</td>\n",
       "      <td>1</td>\n",
       "      <td>1</td>\n",
       "      <td>Futrelle, Mrs. Jacques Heath (Lily May Peel)</td>\n",
       "      <td>female</td>\n",
       "      <td>35.0</td>\n",
       "      <td>1</td>\n",
       "      <td>0</td>\n",
       "      <td>113803</td>\n",
       "      <td>53.1000</td>\n",
       "      <td>C123</td>\n",
       "      <td>S</td>\n",
       "    </tr>\n",
       "    <tr>\n",
       "      <th>4</th>\n",
       "      <td>5</td>\n",
       "      <td>0</td>\n",
       "      <td>3</td>\n",
       "      <td>Allen, Mr. William Henry</td>\n",
       "      <td>male</td>\n",
       "      <td>35.0</td>\n",
       "      <td>0</td>\n",
       "      <td>0</td>\n",
       "      <td>373450</td>\n",
       "      <td>8.0500</td>\n",
       "      <td>NaN</td>\n",
       "      <td>S</td>\n",
       "    </tr>\n",
       "  </tbody>\n",
       "</table>\n",
       "</div>"
      ],
      "text/plain": [
       "   PassengerId  Survived  Pclass  \\\n",
       "0            1         0       3   \n",
       "1            2         1       1   \n",
       "2            3         1       3   \n",
       "3            4         1       1   \n",
       "4            5         0       3   \n",
       "\n",
       "                                                Name     Sex   Age  SibSp  \\\n",
       "0                            Braund, Mr. Owen Harris    male  22.0      1   \n",
       "1  Cumings, Mrs. John Bradley (Florence Briggs Th...  female  38.0      1   \n",
       "2                             Heikkinen, Miss. Laina  female  26.0      0   \n",
       "3       Futrelle, Mrs. Jacques Heath (Lily May Peel)  female  35.0      1   \n",
       "4                           Allen, Mr. William Henry    male  35.0      0   \n",
       "\n",
       "   Parch            Ticket     Fare Cabin Embarked  \n",
       "0      0         A/5 21171   7.2500   NaN        S  \n",
       "1      0          PC 17599  71.2833   C85        C  \n",
       "2      0  STON/O2. 3101282   7.9250   NaN        S  \n",
       "3      0            113803  53.1000  C123        S  \n",
       "4      0            373450   8.0500   NaN        S  "
      ]
     },
     "execution_count": 5,
     "metadata": {},
     "output_type": "execute_result"
    }
   ],
   "source": [
    "train_raw.head(5)"
   ]
  },
  {
   "cell_type": "markdown",
   "metadata": {},
   "source": [
    "## Feature selection:"
   ]
  },
  {
   "cell_type": "code",
   "execution_count": 6,
   "metadata": {},
   "outputs": [],
   "source": [
    "# Do some initial transformation:\n",
    "train = xform_input(train_raw)\n",
    "\n",
    "# Select columns ('prefix_cols' grabs entire group by prefix):\n",
    "prefix_cols = [\"Embarked\", \"Title\"] #, \"Cabin\"]\n",
    "def matches_prefix(col):\n",
    "    for p in prefix_cols:\n",
    "        if col.startswith(p): return True\n",
    "    return False\n",
    "cols = [\"Sex\", \"Age\", \"Fare\", \"SibSp\", \"Parch\"] + \\\n",
    "    [i for i in train.columns if matches_prefix(i)]\n",
    "# [\"FarePer\", \"Count\", \"Pclass\"] \\\n",
    "train_X = train.loc[:, cols]\n",
    "train_Y = train.loc[:, \"Survived\"]\n",
    "\n",
    "test = xform_input(test_raw)\n",
    "test.loc[:,\"Cabin_T\"] = 0\n",
    "test_X = test.loc[:, cols]"
   ]
  },
  {
   "cell_type": "markdown",
   "metadata": {},
   "source": [
    "## Missing data:"
   ]
  },
  {
   "cell_type": "code",
   "execution_count": 7,
   "metadata": {},
   "outputs": [],
   "source": [
    "# Fare has just one missing value to take care of\n",
    "# (for which we just fill in the average):\n",
    "fare_avg = (train_X.Fare.sum() + test_X.Fare.sum()) / (train_X.Fare.count() + test_X.Fare.count())\n",
    "test_X.Fare.fillna(fare_avg, inplace=True)\n",
    "\n",
    "# Age has a lot more; split apart the missing Age rows\n",
    "# from both training & test:\n",
    "mask_train = train_X.Age.isnull()\n",
    "mask_test = test_X.Age.isnull()\n",
    "age_valid = pandas.concat([train_X[~mask_train],  test_X[~mask_test]])\n",
    "age_valid_Y = age_valid.Age\n",
    "age_valid_X = age_valid.drop(\"Age\", axis=1)\n",
    "train_age_null = train_X[mask_train].drop(\"Age\", axis=1)\n",
    "test_age_null = test_X[mask_test].drop(\"Age\", axis=1)"
   ]
  },
  {
   "cell_type": "code",
   "execution_count": 8,
   "metadata": {},
   "outputs": [
    {
     "data": {
      "text/plain": [
       "(1046, 177, 86)"
      ]
     },
     "execution_count": 8,
     "metadata": {},
     "output_type": "execute_result"
    }
   ],
   "source": [
    "age_valid.shape[0], train_age_null.shape[0], test_age_null.shape[0]"
   ]
  },
  {
   "cell_type": "code",
   "execution_count": 9,
   "metadata": {},
   "outputs": [
    {
     "data": {
      "text/html": [
       "<div>\n",
       "<style>\n",
       "    .dataframe thead tr:only-child th {\n",
       "        text-align: right;\n",
       "    }\n",
       "\n",
       "    .dataframe thead th {\n",
       "        text-align: left;\n",
       "    }\n",
       "\n",
       "    .dataframe tbody tr th {\n",
       "        vertical-align: top;\n",
       "    }\n",
       "</style>\n",
       "<table border=\"1\" class=\"dataframe\">\n",
       "  <thead>\n",
       "    <tr style=\"text-align: right;\">\n",
       "      <th></th>\n",
       "      <th>Sex</th>\n",
       "      <th>Fare</th>\n",
       "      <th>SibSp</th>\n",
       "      <th>Parch</th>\n",
       "      <th>Embarked_C</th>\n",
       "      <th>Embarked_Q</th>\n",
       "      <th>Embarked_S</th>\n",
       "      <th>Title_Dr</th>\n",
       "      <th>Title_Lady</th>\n",
       "      <th>Title_Master</th>\n",
       "      <th>Title_Miss</th>\n",
       "      <th>Title_Mr</th>\n",
       "      <th>Title_Mrs</th>\n",
       "      <th>Title_Rev</th>\n",
       "      <th>Title_Sir</th>\n",
       "    </tr>\n",
       "  </thead>\n",
       "  <tbody>\n",
       "    <tr>\n",
       "      <th>5</th>\n",
       "      <td>0</td>\n",
       "      <td>8.4583</td>\n",
       "      <td>0</td>\n",
       "      <td>0</td>\n",
       "      <td>0</td>\n",
       "      <td>1</td>\n",
       "      <td>0</td>\n",
       "      <td>0</td>\n",
       "      <td>0</td>\n",
       "      <td>0</td>\n",
       "      <td>0</td>\n",
       "      <td>1</td>\n",
       "      <td>0</td>\n",
       "      <td>0</td>\n",
       "      <td>0</td>\n",
       "    </tr>\n",
       "    <tr>\n",
       "      <th>17</th>\n",
       "      <td>0</td>\n",
       "      <td>13.0000</td>\n",
       "      <td>0</td>\n",
       "      <td>0</td>\n",
       "      <td>0</td>\n",
       "      <td>0</td>\n",
       "      <td>1</td>\n",
       "      <td>0</td>\n",
       "      <td>0</td>\n",
       "      <td>0</td>\n",
       "      <td>0</td>\n",
       "      <td>1</td>\n",
       "      <td>0</td>\n",
       "      <td>0</td>\n",
       "      <td>0</td>\n",
       "    </tr>\n",
       "    <tr>\n",
       "      <th>19</th>\n",
       "      <td>1</td>\n",
       "      <td>7.2250</td>\n",
       "      <td>0</td>\n",
       "      <td>0</td>\n",
       "      <td>1</td>\n",
       "      <td>0</td>\n",
       "      <td>0</td>\n",
       "      <td>0</td>\n",
       "      <td>0</td>\n",
       "      <td>0</td>\n",
       "      <td>0</td>\n",
       "      <td>0</td>\n",
       "      <td>1</td>\n",
       "      <td>0</td>\n",
       "      <td>0</td>\n",
       "    </tr>\n",
       "    <tr>\n",
       "      <th>26</th>\n",
       "      <td>0</td>\n",
       "      <td>7.2250</td>\n",
       "      <td>0</td>\n",
       "      <td>0</td>\n",
       "      <td>1</td>\n",
       "      <td>0</td>\n",
       "      <td>0</td>\n",
       "      <td>0</td>\n",
       "      <td>0</td>\n",
       "      <td>0</td>\n",
       "      <td>0</td>\n",
       "      <td>1</td>\n",
       "      <td>0</td>\n",
       "      <td>0</td>\n",
       "      <td>0</td>\n",
       "    </tr>\n",
       "    <tr>\n",
       "      <th>28</th>\n",
       "      <td>1</td>\n",
       "      <td>7.8792</td>\n",
       "      <td>0</td>\n",
       "      <td>0</td>\n",
       "      <td>0</td>\n",
       "      <td>1</td>\n",
       "      <td>0</td>\n",
       "      <td>0</td>\n",
       "      <td>0</td>\n",
       "      <td>0</td>\n",
       "      <td>1</td>\n",
       "      <td>0</td>\n",
       "      <td>0</td>\n",
       "      <td>0</td>\n",
       "      <td>0</td>\n",
       "    </tr>\n",
       "  </tbody>\n",
       "</table>\n",
       "</div>"
      ],
      "text/plain": [
       "    Sex     Fare  SibSp  Parch  Embarked_C  Embarked_Q  Embarked_S  Title_Dr  \\\n",
       "5     0   8.4583      0      0           0           1           0         0   \n",
       "17    0  13.0000      0      0           0           0           1         0   \n",
       "19    1   7.2250      0      0           1           0           0         0   \n",
       "26    0   7.2250      0      0           1           0           0         0   \n",
       "28    1   7.8792      0      0           0           1           0         0   \n",
       "\n",
       "    Title_Lady  Title_Master  Title_Miss  Title_Mr  Title_Mrs  Title_Rev  \\\n",
       "5            0             0           0         1          0          0   \n",
       "17           0             0           0         1          0          0   \n",
       "19           0             0           0         0          1          0   \n",
       "26           0             0           0         1          0          0   \n",
       "28           0             0           1         0          0          0   \n",
       "\n",
       "    Title_Sir  \n",
       "5           0  \n",
       "17          0  \n",
       "19          0  \n",
       "26          0  \n",
       "28          0  "
      ]
     },
     "execution_count": 9,
     "metadata": {},
     "output_type": "execute_result"
    }
   ],
   "source": [
    "train_age_null.head(5)"
   ]
  },
  {
   "cell_type": "code",
   "execution_count": 10,
   "metadata": {},
   "outputs": [
    {
     "data": {
      "text/plain": [
       "Sex             0\n",
       "Fare            0\n",
       "SibSp           0\n",
       "Parch           0\n",
       "Embarked_C      0\n",
       "Embarked_Q      0\n",
       "Embarked_S      0\n",
       "Title_Dr        0\n",
       "Title_Lady      0\n",
       "Title_Master    0\n",
       "Title_Miss      0\n",
       "Title_Mr        0\n",
       "Title_Mrs       0\n",
       "Title_Rev       0\n",
       "Title_Sir       0\n",
       "dtype: int64"
      ]
     },
     "execution_count": 10,
     "metadata": {},
     "output_type": "execute_result"
    }
   ],
   "source": [
    "age_valid_X.isnull().sum()"
   ]
  },
  {
   "cell_type": "code",
   "execution_count": 11,
   "metadata": {},
   "outputs": [],
   "source": [
    "# Replace missing values of Age based on other values.\n",
    "# Since this is an unrelated model (not the one we are predicting\n",
    "# Survived from), we aren't tainting it by including test data in it.\n",
    "rfr = sklearn.ensemble.RandomForestRegressor()\n",
    "rfr = rfr.fit(age_valid_X, age_valid_Y)"
   ]
  },
  {
   "cell_type": "code",
   "execution_count": 12,
   "metadata": {},
   "outputs": [],
   "source": [
    "train_X.loc[mask_train, \"Age\"] = rfr.predict(train_age_null)\n",
    "test_X.loc[mask_test, \"Age\"]   = rfr.predict(test_age_null)"
   ]
  },
  {
   "cell_type": "markdown",
   "metadata": {},
   "source": [
    "## Transformed data:"
   ]
  },
  {
   "cell_type": "code",
   "execution_count": 13,
   "metadata": {},
   "outputs": [
    {
     "data": {
      "text/html": [
       "<div>\n",
       "<style>\n",
       "    .dataframe thead tr:only-child th {\n",
       "        text-align: right;\n",
       "    }\n",
       "\n",
       "    .dataframe thead th {\n",
       "        text-align: left;\n",
       "    }\n",
       "\n",
       "    .dataframe tbody tr th {\n",
       "        vertical-align: top;\n",
       "    }\n",
       "</style>\n",
       "<table border=\"1\" class=\"dataframe\">\n",
       "  <thead>\n",
       "    <tr style=\"text-align: right;\">\n",
       "      <th></th>\n",
       "      <th>Sex</th>\n",
       "      <th>Age</th>\n",
       "      <th>Fare</th>\n",
       "      <th>SibSp</th>\n",
       "      <th>Parch</th>\n",
       "      <th>Embarked_C</th>\n",
       "      <th>Embarked_Q</th>\n",
       "      <th>Embarked_S</th>\n",
       "      <th>Title_Dr</th>\n",
       "      <th>Title_Lady</th>\n",
       "      <th>Title_Master</th>\n",
       "      <th>Title_Miss</th>\n",
       "      <th>Title_Mr</th>\n",
       "      <th>Title_Mrs</th>\n",
       "      <th>Title_Rev</th>\n",
       "      <th>Title_Sir</th>\n",
       "    </tr>\n",
       "  </thead>\n",
       "  <tbody>\n",
       "    <tr>\n",
       "      <th>0</th>\n",
       "      <td>0</td>\n",
       "      <td>22.0</td>\n",
       "      <td>7.2500</td>\n",
       "      <td>1</td>\n",
       "      <td>0</td>\n",
       "      <td>0</td>\n",
       "      <td>0</td>\n",
       "      <td>1</td>\n",
       "      <td>0</td>\n",
       "      <td>0</td>\n",
       "      <td>0</td>\n",
       "      <td>0</td>\n",
       "      <td>1</td>\n",
       "      <td>0</td>\n",
       "      <td>0</td>\n",
       "      <td>0</td>\n",
       "    </tr>\n",
       "    <tr>\n",
       "      <th>1</th>\n",
       "      <td>1</td>\n",
       "      <td>38.0</td>\n",
       "      <td>71.2833</td>\n",
       "      <td>1</td>\n",
       "      <td>0</td>\n",
       "      <td>1</td>\n",
       "      <td>0</td>\n",
       "      <td>0</td>\n",
       "      <td>0</td>\n",
       "      <td>0</td>\n",
       "      <td>0</td>\n",
       "      <td>0</td>\n",
       "      <td>0</td>\n",
       "      <td>1</td>\n",
       "      <td>0</td>\n",
       "      <td>0</td>\n",
       "    </tr>\n",
       "    <tr>\n",
       "      <th>2</th>\n",
       "      <td>1</td>\n",
       "      <td>26.0</td>\n",
       "      <td>7.9250</td>\n",
       "      <td>0</td>\n",
       "      <td>0</td>\n",
       "      <td>0</td>\n",
       "      <td>0</td>\n",
       "      <td>1</td>\n",
       "      <td>0</td>\n",
       "      <td>0</td>\n",
       "      <td>0</td>\n",
       "      <td>1</td>\n",
       "      <td>0</td>\n",
       "      <td>0</td>\n",
       "      <td>0</td>\n",
       "      <td>0</td>\n",
       "    </tr>\n",
       "    <tr>\n",
       "      <th>3</th>\n",
       "      <td>1</td>\n",
       "      <td>35.0</td>\n",
       "      <td>53.1000</td>\n",
       "      <td>1</td>\n",
       "      <td>0</td>\n",
       "      <td>0</td>\n",
       "      <td>0</td>\n",
       "      <td>1</td>\n",
       "      <td>0</td>\n",
       "      <td>0</td>\n",
       "      <td>0</td>\n",
       "      <td>0</td>\n",
       "      <td>0</td>\n",
       "      <td>1</td>\n",
       "      <td>0</td>\n",
       "      <td>0</td>\n",
       "    </tr>\n",
       "    <tr>\n",
       "      <th>4</th>\n",
       "      <td>0</td>\n",
       "      <td>35.0</td>\n",
       "      <td>8.0500</td>\n",
       "      <td>0</td>\n",
       "      <td>0</td>\n",
       "      <td>0</td>\n",
       "      <td>0</td>\n",
       "      <td>1</td>\n",
       "      <td>0</td>\n",
       "      <td>0</td>\n",
       "      <td>0</td>\n",
       "      <td>0</td>\n",
       "      <td>1</td>\n",
       "      <td>0</td>\n",
       "      <td>0</td>\n",
       "      <td>0</td>\n",
       "    </tr>\n",
       "  </tbody>\n",
       "</table>\n",
       "</div>"
      ],
      "text/plain": [
       "   Sex   Age     Fare  SibSp  Parch  Embarked_C  Embarked_Q  Embarked_S  \\\n",
       "0    0  22.0   7.2500      1      0           0           0           1   \n",
       "1    1  38.0  71.2833      1      0           1           0           0   \n",
       "2    1  26.0   7.9250      0      0           0           0           1   \n",
       "3    1  35.0  53.1000      1      0           0           0           1   \n",
       "4    0  35.0   8.0500      0      0           0           0           1   \n",
       "\n",
       "   Title_Dr  Title_Lady  Title_Master  Title_Miss  Title_Mr  Title_Mrs  \\\n",
       "0         0           0             0           0         1          0   \n",
       "1         0           0             0           0         0          1   \n",
       "2         0           0             0           1         0          0   \n",
       "3         0           0             0           0         0          1   \n",
       "4         0           0             0           0         1          0   \n",
       "\n",
       "   Title_Rev  Title_Sir  \n",
       "0          0          0  \n",
       "1          0          0  \n",
       "2          0          0  \n",
       "3          0          0  \n",
       "4          0          0  "
      ]
     },
     "execution_count": 13,
     "metadata": {},
     "output_type": "execute_result"
    }
   ],
   "source": [
    "train_X.head(5)"
   ]
  },
  {
   "cell_type": "markdown",
   "metadata": {},
   "source": [
    "## Models to test"
   ]
  },
  {
   "cell_type": "code",
   "execution_count": 18,
   "metadata": {
    "collapsed": true
   },
   "outputs": [],
   "source": [
    "# Make a zoo of models to test:\n",
    "logistic = sklearn.linear_model.LogisticRegression(C = 1e5)\n",
    "rf = sklearn.ensemble.RandomForestClassifier(\n",
    "    n_estimators=100, criterion=\"entropy\", max_depth=5, n_jobs=-1,\n",
    "    random_state=12348)\n",
    "rf2 = sklearn.ensemble.RandomForestClassifier(\n",
    "    n_estimators=200, criterion=\"entropy\", max_depth=5, n_jobs=-1,\n",
    "    random_state=12348)\n",
    "rf3 = sklearn.ensemble.RandomForestClassifier(\n",
    "    n_estimators=100, criterion=\"entropy\", max_depth=10, n_jobs=-1,\n",
    "    random_state=12348)\n",
    "rf4 = sklearn.ensemble.RandomForestClassifier(\n",
    "    n_estimators=200, criterion=\"entropy\", max_depth=10, n_jobs=-1,\n",
    "    random_state=12348)\n",
    "ab = sklearn.ensemble.AdaBoostClassifier(\n",
    "    n_estimators=400,\n",
    "    learning_rate=1.0,\n",
    "    random_state=12345)\n",
    "svc = sklearn.svm.SVC()\n",
    "xgb = xgboost.sklearn.XGBClassifier(nthread=-1, seed=12345)\n",
    "\n",
    "models = {\n",
    "    \"Logistic regression\": logistic,\n",
    "    \"Random forest(100,5)\": rf,\n",
    "    \"Random forest(200,5)\": rf2,\n",
    "    \"Random forest(100,10)\": rf3,\n",
    "    \"Random forest(200,10)\": rf4,\n",
    "    \"AdaBoost\": ab,\n",
    "    \"SVC\": svc,\n",
    "    \"XGBoost\": xgb\n",
    "}"
   ]
  },
  {
   "cell_type": "markdown",
   "metadata": {},
   "source": [
    "### My preprocessing & models:"
   ]
  },
  {
   "cell_type": "code",
   "execution_count": 19,
   "metadata": {},
   "outputs": [],
   "source": [
    "data = []\n",
    "for name in models:\n",
    "    scores = sklearn.model_selection.cross_val_score(\n",
    "        models[name],\n",
    "        train_X,\n",
    "        train_Y,\n",
    "        cv=sklearn.model_selection.StratifiedShuffleSplit())\n",
    "    data.append((name, scores.mean(), scores.std() * 2))\n",
    "data = pandas.DataFrame.from_records(\n",
    "    data, columns=(\"Model\", \"Mean Accuracy\", \"Std. Dev.\"))\n",
    "data.sort_values(\"Model\", inplace=True)"
   ]
  },
  {
   "cell_type": "code",
   "execution_count": 20,
   "metadata": {},
   "outputs": [
    {
     "data": {
      "text/html": [
       "<div>\n",
       "<style>\n",
       "    .dataframe thead tr:only-child th {\n",
       "        text-align: right;\n",
       "    }\n",
       "\n",
       "    .dataframe thead th {\n",
       "        text-align: left;\n",
       "    }\n",
       "\n",
       "    .dataframe tbody tr th {\n",
       "        vertical-align: top;\n",
       "    }\n",
       "</style>\n",
       "<table border=\"1\" class=\"dataframe\">\n",
       "  <thead>\n",
       "    <tr style=\"text-align: right;\">\n",
       "      <th></th>\n",
       "      <th>Model</th>\n",
       "      <th>Mean Accuracy</th>\n",
       "      <th>Std. Dev.</th>\n",
       "    </tr>\n",
       "  </thead>\n",
       "  <tbody>\n",
       "    <tr>\n",
       "      <th>2</th>\n",
       "      <td>AdaBoost</td>\n",
       "      <td>0.798889</td>\n",
       "      <td>0.049141</td>\n",
       "    </tr>\n",
       "    <tr>\n",
       "      <th>3</th>\n",
       "      <td>Logistic regression</td>\n",
       "      <td>0.787778</td>\n",
       "      <td>0.077268</td>\n",
       "    </tr>\n",
       "    <tr>\n",
       "      <th>1</th>\n",
       "      <td>Random forest(100,10)</td>\n",
       "      <td>0.820000</td>\n",
       "      <td>0.047454</td>\n",
       "    </tr>\n",
       "    <tr>\n",
       "      <th>5</th>\n",
       "      <td>Random forest(100,5)</td>\n",
       "      <td>0.821111</td>\n",
       "      <td>0.077905</td>\n",
       "    </tr>\n",
       "    <tr>\n",
       "      <th>0</th>\n",
       "      <td>Random forest(200,10)</td>\n",
       "      <td>0.827778</td>\n",
       "      <td>0.075195</td>\n",
       "    </tr>\n",
       "    <tr>\n",
       "      <th>6</th>\n",
       "      <td>Random forest(200,5)</td>\n",
       "      <td>0.831111</td>\n",
       "      <td>0.058626</td>\n",
       "    </tr>\n",
       "    <tr>\n",
       "      <th>4</th>\n",
       "      <td>SVC</td>\n",
       "      <td>0.755556</td>\n",
       "      <td>0.062063</td>\n",
       "    </tr>\n",
       "    <tr>\n",
       "      <th>7</th>\n",
       "      <td>XGBoost</td>\n",
       "      <td>0.834444</td>\n",
       "      <td>0.092403</td>\n",
       "    </tr>\n",
       "  </tbody>\n",
       "</table>\n",
       "</div>"
      ],
      "text/plain": [
       "                   Model  Mean Accuracy  Std. Dev.\n",
       "2               AdaBoost       0.798889   0.049141\n",
       "3    Logistic regression       0.787778   0.077268\n",
       "1  Random forest(100,10)       0.820000   0.047454\n",
       "5   Random forest(100,5)       0.821111   0.077905\n",
       "0  Random forest(200,10)       0.827778   0.075195\n",
       "6   Random forest(200,5)       0.831111   0.058626\n",
       "4                    SVC       0.755556   0.062063\n",
       "7                XGBoost       0.834444   0.092403"
      ]
     },
     "execution_count": 20,
     "metadata": {},
     "output_type": "execute_result"
    }
   ],
   "source": [
    "data"
   ]
  },
  {
   "cell_type": "markdown",
   "metadata": {},
   "source": [
    "### My models, but sinakhorami's features:"
   ]
  },
  {
   "cell_type": "code",
   "execution_count": null,
   "metadata": {},
   "outputs": [],
   "source": [
    "data = []\n",
    "for name in models:\n",
    "    scores = sklearn.model_selection.cross_val_score(\n",
    "        models[name],\n",
    "        sinakhorami_preprocess.train[:,1::],\n",
    "        sinakhorami_preprocess.train[:,0],\n",
    "        cv=sklearn.model_selection.StratifiedShuffleSplit())\n",
    "    data.append((name, scores.mean(), scores.std() * 2))\n",
    "data = pandas.DataFrame.from_records(\n",
    "    data, columns=(\"Model\", \"Mean Accuracy\", \"Std. Dev.\"))\n",
    "data.sort_values(\"Model\", inplace=True)"
   ]
  },
  {
   "cell_type": "code",
   "execution_count": null,
   "metadata": {},
   "outputs": [],
   "source": [
    "data"
   ]
  },
  {
   "cell_type": "code",
   "execution_count": null,
   "metadata": {},
   "outputs": [],
   "source": [
    "%matplotlib inline\n",
    "matplotlib.pyplot.figure()\n",
    "xgb.fit(train_X, train_Y)\n",
    "xgboost.plot_importance(xgb, ax=matplotlib.pyplot.gca())"
   ]
  },
  {
   "cell_type": "code",
   "execution_count": 26,
   "metadata": {
    "collapsed": true
   },
   "outputs": [],
   "source": [
    "def plot_validation(train_scores, test_scores, param_range, linear=False):\n",
    "    # Code adapted from:\n",
    "    # http://scikit-learn.org/stable/auto_examples/model_selection/plot_validation_curve.html\n",
    "    train_scores_mean = numpy.mean(train_scores, axis=1)\n",
    "    train_scores_std = numpy.std(train_scores, axis=1)\n",
    "    test_scores_mean = numpy.mean(test_scores, axis=1)\n",
    "    test_scores_std = numpy.std(test_scores, axis=1)\n",
    "    plt.ylabel(\"Score\")\n",
    "    #plt.ylim(0.0, 1.1)\n",
    "    lw = 2\n",
    "    if linear:\n",
    "        plt.plot(param_range, train_scores_mean, label=\"Training score\",\n",
    "                 color=\"darkorange\", lw=lw)\n",
    "    else:\n",
    "        plt.semilogx(param_range, train_scores_mean, label=\"Training score\",\n",
    "                     color=\"darkorange\", lw=lw)\n",
    "    plt.fill_between(param_range, train_scores_mean - train_scores_std,\n",
    "                     train_scores_mean + train_scores_std, alpha=0.2,\n",
    "                     color=\"darkorange\", lw=lw)\n",
    "    if linear:\n",
    "        plt.plot(param_range, test_scores_mean, label=\"Cross-validation score\",\n",
    "                 color=\"navy\", lw=lw)\n",
    "    else:\n",
    "        plt.semilogx(param_range, test_scores_mean, label=\"Cross-validation score\",\n",
    "                     color=\"navy\", lw=lw)\n",
    "    plt.fill_between(param_range, test_scores_mean - test_scores_std,\n",
    "                     test_scores_mean + test_scores_std, alpha=0.2,\n",
    "                     color=\"navy\", lw=lw)\n",
    "    plt.legend(loc=\"best\")\n",
    "    plt.show()"
   ]
  },
  {
   "cell_type": "markdown",
   "metadata": {},
   "source": [
    "## Random Forest experimentation"
   ]
  },
  {
   "cell_type": "code",
   "execution_count": 22,
   "metadata": {},
   "outputs": [
    {
     "data": {
      "text/html": [
       "<div>\n",
       "<style>\n",
       "    .dataframe thead tr:only-child th {\n",
       "        text-align: right;\n",
       "    }\n",
       "\n",
       "    .dataframe thead th {\n",
       "        text-align: left;\n",
       "    }\n",
       "\n",
       "    .dataframe tbody tr th {\n",
       "        vertical-align: top;\n",
       "    }\n",
       "</style>\n",
       "<table border=\"1\" class=\"dataframe\">\n",
       "  <thead>\n",
       "    <tr style=\"text-align: right;\">\n",
       "      <th></th>\n",
       "      <th>Feature</th>\n",
       "      <th>Importance</th>\n",
       "    </tr>\n",
       "  </thead>\n",
       "  <tbody>\n",
       "    <tr>\n",
       "      <th>12</th>\n",
       "      <td>Title_Mr</td>\n",
       "      <td>0.272764</td>\n",
       "    </tr>\n",
       "    <tr>\n",
       "      <th>0</th>\n",
       "      <td>Sex</td>\n",
       "      <td>0.181875</td>\n",
       "    </tr>\n",
       "    <tr>\n",
       "      <th>2</th>\n",
       "      <td>Fare</td>\n",
       "      <td>0.174248</td>\n",
       "    </tr>\n",
       "    <tr>\n",
       "      <th>1</th>\n",
       "      <td>Age</td>\n",
       "      <td>0.080788</td>\n",
       "    </tr>\n",
       "    <tr>\n",
       "      <th>3</th>\n",
       "      <td>SibSp</td>\n",
       "      <td>0.073116</td>\n",
       "    </tr>\n",
       "    <tr>\n",
       "      <th>13</th>\n",
       "      <td>Title_Mrs</td>\n",
       "      <td>0.064942</td>\n",
       "    </tr>\n",
       "    <tr>\n",
       "      <th>11</th>\n",
       "      <td>Title_Miss</td>\n",
       "      <td>0.058950</td>\n",
       "    </tr>\n",
       "    <tr>\n",
       "      <th>4</th>\n",
       "      <td>Parch</td>\n",
       "      <td>0.029853</td>\n",
       "    </tr>\n",
       "    <tr>\n",
       "      <th>5</th>\n",
       "      <td>Embarked_C</td>\n",
       "      <td>0.018746</td>\n",
       "    </tr>\n",
       "    <tr>\n",
       "      <th>10</th>\n",
       "      <td>Title_Master</td>\n",
       "      <td>0.014316</td>\n",
       "    </tr>\n",
       "    <tr>\n",
       "      <th>7</th>\n",
       "      <td>Embarked_S</td>\n",
       "      <td>0.010787</td>\n",
       "    </tr>\n",
       "    <tr>\n",
       "      <th>6</th>\n",
       "      <td>Embarked_Q</td>\n",
       "      <td>0.008299</td>\n",
       "    </tr>\n",
       "    <tr>\n",
       "      <th>14</th>\n",
       "      <td>Title_Rev</td>\n",
       "      <td>0.005886</td>\n",
       "    </tr>\n",
       "    <tr>\n",
       "      <th>8</th>\n",
       "      <td>Title_Dr</td>\n",
       "      <td>0.003436</td>\n",
       "    </tr>\n",
       "    <tr>\n",
       "      <th>15</th>\n",
       "      <td>Title_Sir</td>\n",
       "      <td>0.001581</td>\n",
       "    </tr>\n",
       "  </tbody>\n",
       "</table>\n",
       "</div>"
      ],
      "text/plain": [
       "         Feature  Importance\n",
       "12      Title_Mr    0.272764\n",
       "0            Sex    0.181875\n",
       "2           Fare    0.174248\n",
       "1            Age    0.080788\n",
       "3          SibSp    0.073116\n",
       "13     Title_Mrs    0.064942\n",
       "11    Title_Miss    0.058950\n",
       "4          Parch    0.029853\n",
       "5     Embarked_C    0.018746\n",
       "10  Title_Master    0.014316\n",
       "7     Embarked_S    0.010787\n",
       "6     Embarked_Q    0.008299\n",
       "14     Title_Rev    0.005886\n",
       "8       Title_Dr    0.003436\n",
       "15     Title_Sir    0.001581"
      ]
     },
     "execution_count": 22,
     "metadata": {},
     "output_type": "execute_result"
    }
   ],
   "source": [
    "rf = sklearn.ensemble.RandomForestClassifier(\n",
    "    n_estimators=100, criterion=\"entropy\", max_depth=5, n_jobs=-1,\n",
    "    random_state=12348)\n",
    "rf = rf.fit(train_X, train_Y)\n",
    "features = pandas.DataFrame(\n",
    "    {\"Feature\": list(train_X.columns),\n",
    "     \"Importance\": rf.feature_importances_})\n",
    "features.sort_values(\"Importance\", inplace=True, ascending=False)\n",
    "features.head(15)"
   ]
  },
  {
   "cell_type": "code",
   "execution_count": 28,
   "metadata": {},
   "outputs": [],
   "source": [
    "def test_estimators(est_range, max_depth):\n",
    "    train_scores, valid_scores = sklearn.model_selection.validation_curve(\n",
    "        sklearn.ensemble.RandomForestClassifier(\n",
    "            criterion=\"entropy\", max_depth=max_depth, n_jobs=-1,\n",
    "            random_state=12348),\n",
    "        train_X, train_Y,\n",
    "        \"n_estimators\", est_range, cv=sklearn.model_selection.StratifiedShuffleSplit())\n",
    "    plt.title(\"Random Forest Classifier, max_depth={0}\".format(max_depth))\n",
    "    plt.xlabel(\"n_estimators\")\n",
    "    plot_validation(train_scores, valid_scores, est_range)"
   ]
  },
  {
   "cell_type": "code",
   "execution_count": null,
   "metadata": {
    "collapsed": true
   },
   "outputs": [],
   "source": [
    "rng = numpy.logspace(0.5, 3.5, 10).astype(numpy.int64)\n",
    "test_estimators(rng, 5)"
   ]
  },
  {
   "cell_type": "code",
   "execution_count": null,
   "metadata": {
    "collapsed": true
   },
   "outputs": [],
   "source": [
    "test_estimators(rng, 7)"
   ]
  },
  {
   "cell_type": "code",
   "execution_count": null,
   "metadata": {
    "collapsed": true
   },
   "outputs": [],
   "source": [
    "test_estimators(rng, 9)"
   ]
  },
  {
   "cell_type": "code",
   "execution_count": null,
   "metadata": {
    "collapsed": true
   },
   "outputs": [],
   "source": [
    "test_estimators(rng, 11)"
   ]
  },
  {
   "cell_type": "markdown",
   "metadata": {},
   "source": [
    "## SVM validation curves"
   ]
  },
  {
   "cell_type": "code",
   "execution_count": null,
   "metadata": {},
   "outputs": [],
   "source": [
    "rng = numpy.logspace(-3, -1, 30)\n",
    "train_scores, valid_scores = sklearn.model_selection.validation_curve(\n",
    "    sklearn.svm.SVC(C=1, probability=True), train_X, train_Y,\n",
    "    \"gamma\", rng, cv=sklearn.model_selection.StratifiedShuffleSplit())\n",
    "plt.title(\"SVC validation curve, C=1\")\n",
    "plt.xlabel(\"$\\gamma$\")\n",
    "plot_validation(train_scores, valid_scores, rng)"
   ]
  },
  {
   "cell_type": "code",
   "execution_count": null,
   "metadata": {},
   "outputs": [],
   "source": [
    "rng = numpy.logspace(-1, 2, 30)\n",
    "train_scores, valid_scores = sklearn.model_selection.validation_curve(\n",
    "    sklearn.svm.SVC(gamma=0.03, probability=True), train_X, train_Y,\n",
    "    \"C\", rng, cv=sklearn.model_selection.StratifiedShuffleSplit())\n",
    "plt.title(\"SVC validation curve, $\\gamma$=0.03\")\n",
    "plt.xlabel(\"C\")\n",
    "plot_validation(train_scores, valid_scores, rng)"
   ]
  },
  {
   "cell_type": "markdown",
   "metadata": {},
   "source": [
    "## xgboost experimentation"
   ]
  },
  {
   "cell_type": "code",
   "execution_count": null,
   "metadata": {},
   "outputs": [],
   "source": [
    "xgb = xgboost.sklearn.XGBClassifier(nthread=-1, seed=12345)\n",
    "rng = numpy.logspace(-2, 0, 30)\n",
    "train_scores, valid_scores = sklearn.model_selection.validation_curve(\n",
    "    xgb, train_X, train_Y,\n",
    "    \"learning_rate\", rng, cv=sklearn.model_selection.StratifiedShuffleSplit())\n",
    "plt.title(\"xgboost validation curve\")\n",
    "plt.xlabel(\"$\\eta$\")\n",
    "plot_validation(train_scores, valid_scores, rng)"
   ]
  },
  {
   "cell_type": "code",
   "execution_count": null,
   "metadata": {},
   "outputs": [],
   "source": [
    "xgb = xgboost.sklearn.XGBClassifier(nthread=-1, seed=12345, learning_rate=0.1)\n",
    "rng = numpy.logspace(1.5, 3.5, 30).astype(numpy.int64)\n",
    "train_scores, valid_scores = sklearn.model_selection.validation_curve(\n",
    "    xgb, train_X, train_Y,\n",
    "    \"n_estimators\", rng, cv=sklearn.model_selection.StratifiedShuffleSplit())\n",
    "plt.title(\"xgboost validation curve, $\\eta=0.1$\")\n",
    "plt.xlabel(\"n_estimators\")\n",
    "plot_validation(train_scores, valid_scores, rng)"
   ]
  },
  {
   "cell_type": "code",
   "execution_count": null,
   "metadata": {},
   "outputs": [],
   "source": [
    "xgb = xgboost.sklearn.XGBClassifier(nthread=-1, seed=12345, learning_rate=0.1, n_estimators=200)\n",
    "rng = numpy.logspace(-3, 2, 30)\n",
    "train_scores, valid_scores = sklearn.model_selection.validation_curve(\n",
    "    xgb, train_X, train_Y,\n",
    "    \"reg_lambda\", rng, cv=sklearn.model_selection.StratifiedShuffleSplit())\n",
    "plt.title(\"xgboost validation curve, $\\eta=0.1$, n_estimators=200\")\n",
    "plt.xlabel(\"$\\lambda$\")\n",
    "plot_validation(train_scores, valid_scores, rng)"
   ]
  },
  {
   "cell_type": "code",
   "execution_count": null,
   "metadata": {},
   "outputs": [],
   "source": [
    "xgb = xgboost.sklearn.XGBClassifier(nthread=-1, seed=12345, learning_rate=0.1, n_estimators=200)\n",
    "rng = numpy.arange(1, 15)\n",
    "train_scores, valid_scores = sklearn.model_selection.validation_curve(\n",
    "    xgb, train_X, train_Y,\n",
    "    \"max_depth\", rng, cv=sklearn.model_selection.StratifiedShuffleSplit())\n",
    "plt.title(\"xgboost validation curve, $\\eta=0.1$, n_estimators=200\")\n",
    "plt.xlabel(\"Max depth\")\n",
    "plot_validation(train_scores, valid_scores, rng, linear=True)"
   ]
  },
  {
   "cell_type": "code",
   "execution_count": null,
   "metadata": {},
   "outputs": [],
   "source": [
    "xgb = xgboost.sklearn.XGBClassifier(nthread=-1, seed=12345, learning_rate=0.1, n_estimators=200, max_depth=6)\n",
    "rng = numpy.linspace(0, 4, 25)\n",
    "train_scores, valid_scores = sklearn.model_selection.validation_curve(\n",
    "    xgb, train_X, train_Y,\n",
    "    \"gamma\", rng, cv=sklearn.model_selection.StratifiedShuffleSplit())\n",
    "plt.title(\"xgboost validation curve, $\\eta=0.1$, n_estimators=200, depth=6\")\n",
    "plt.xlabel(\"$\\gamma$\")\n",
    "plot_validation(train_scores, valid_scores, rng, linear=True)"
   ]
  },
  {
   "cell_type": "code",
   "execution_count": null,
   "metadata": {},
   "outputs": [],
   "source": [
    "xgb = xgboost.sklearn.XGBClassifier(nthread=-1, seed=12345, learning_rate=0.1, n_estimators=400, max_depth=6)\n",
    "rng = numpy.linspace(0, 4, 25)\n",
    "train_scores, valid_scores = sklearn.model_selection.validation_curve(\n",
    "    xgb, train_X, train_Y,\n",
    "    \"gamma\", rng, cv=sklearn.model_selection.StratifiedShuffleSplit())\n",
    "plt.title(\"xgboost validation curve, $\\eta=0.1$, n_estimators=400, depth=6\")\n",
    "plt.xlabel(\"$\\gamma$\")\n",
    "plot_validation(train_scores, valid_scores, rng, linear=True)"
   ]
  },
  {
   "cell_type": "markdown",
   "metadata": {},
   "source": [
    "## Submission code"
   ]
  },
  {
   "cell_type": "code",
   "execution_count": null,
   "metadata": {},
   "outputs": [],
   "source": [
    "# Generate submission:\n",
    "model = sklearn.ensemble.RandomForestClassifier(\n",
    "        n_estimators=400, criterion=\"entropy\", max_depth=5, n_jobs=-1)\n",
    "#model = xgboost.sklearn.XGBClassifier(nthread=-1, seed=12346, learning_rate=0.1, n_estimators=400, max_depth=6, gamma=0.5)\n",
    "#model = sklearn.svm.SVC()\n",
    "#model.fit(sinakhorami_preprocess.train[:,1::],\n",
    "#          sinakhorami_preprocess.train[:,0],\n",
    "#         )\n",
    "model.fit(train_X, train_Y)\n",
    "submission = test[[\"PassengerId\"]]\n",
    "#submission = submission.assign(Survived = model.predict(sinakhorami_preprocess.test))\n",
    "submission = submission.assign(Survived = model.predict(test_X))\n",
    "submission.to_csv(\"submission.csv\", index=False)"
   ]
  }
 ],
 "metadata": {
  "kernelspec": {
   "display_name": "Python 3",
   "language": "python",
   "name": "python3"
  },
  "language_info": {
   "codemirror_mode": {
    "name": "ipython",
    "version": 3
   },
   "file_extension": ".py",
   "mimetype": "text/x-python",
   "name": "python",
   "nbconvert_exporter": "python",
   "pygments_lexer": "ipython3",
   "version": "3.5.4"
  }
 },
 "nbformat": 4,
 "nbformat_minor": 2
}
